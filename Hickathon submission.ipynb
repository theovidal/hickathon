{
 "cells": [
  {
   "metadata": {
    "ExecuteTime": {
     "end_time": "2024-12-01T11:35:44.590121Z",
     "start_time": "2024-12-01T11:35:44.585808Z"
    }
   },
   "cell_type": "code",
   "source": [
    "import pandas as pd\n",
    "import numpy as np\n",
    "\n",
    "from xgboost import XGBClassifier"
   ],
   "id": "819f80ca89ed4ca9",
   "outputs": [],
   "execution_count": 33
  },
  {
   "metadata": {},
   "cell_type": "markdown",
   "source": "# Data loading and parsing",
   "id": "42879adeba6255e2"
  },
  {
   "cell_type": "code",
   "id": "initial_id",
   "metadata": {
    "collapsed": true,
    "ExecuteTime": {
     "end_time": "2024-12-01T11:35:54.906395Z",
     "start_time": "2024-12-01T11:35:46.532765Z"
    }
   },
   "source": [
    "df = pd.read_csv(\n",
    "  'X_test_Hi5.csv',\n",
    "  dtype={\n",
    "    'piezo_station_department_code': str,\n",
    "    'piezo_qualification': 'category'\n",
    "  },\n",
    "  usecols=[\n",
    "    'row_index',\n",
    "    \n",
    "    # PIEZOMETRY COLUMNS\n",
    "    'piezo_measurement_date', 'piezo_station_longitude', 'piezo_station_latitude', 'piezo_qualification',\n",
    "    \n",
    "    # WEATHER COLUMNS\n",
    "    'meteo_temperature_avg', 'meteo_humidity_avg', 'meteo_evapotranspiration_grid', 'meteo_rain_height', 'meteo_frost_duration',\n",
    "    \n",
    "    # HYDRO COLUMNS\n",
    "    'hydro_observation_result_elab',\n",
    "    \n",
    "    # INSEE COLUMNS\n",
    "    'insee_pop_commune', 'insee_%_agri', \"insee_%_const\", \"insee_med_living_level\", \"insee_%_ind\",\n",
    "    \n",
    "    # WITHDRAWALS\n",
    "    'prelev_volume_0'\n",
    "  ]\n",
    ")"
   ],
   "outputs": [],
   "execution_count": 34
  },
  {
   "metadata": {
    "ExecuteTime": {
     "end_time": "2024-12-01T11:35:54.913178Z",
     "start_time": "2024-12-01T11:35:54.909400Z"
    }
   },
   "cell_type": "code",
   "source": "row_index = df.pop('row_index')",
   "id": "9ac1e68cef3f0b3b",
   "outputs": [],
   "execution_count": 35
  },
  {
   "metadata": {
    "ExecuteTime": {
     "end_time": "2024-12-01T11:35:54.992670Z",
     "start_time": "2024-12-01T11:35:54.915270Z"
    }
   },
   "cell_type": "code",
   "source": [
    "df['piezo_qualification'] = pd.factorize(df['piezo_qualification'])[0]\n",
    "df['piezo_measurement_date'] = pd.to_datetime(df['piezo_measurement_date'])"
   ],
   "id": "640bbc90b38f6130",
   "outputs": [],
   "execution_count": 36
  },
  {
   "metadata": {},
   "cell_type": "markdown",
   "source": "# NaN replacement",
   "id": "526fb2b2f1c755b6"
  },
  {
   "metadata": {
    "ExecuteTime": {
     "end_time": "2024-12-01T11:35:55.585344Z",
     "start_time": "2024-12-01T11:35:54.994685Z"
    }
   },
   "cell_type": "code",
   "source": [
    "for c in [\n",
    "    \"insee_%_ind\",\n",
    "    \"insee_%_const\",\n",
    "    \"insee_%_agri\",\n",
    "    \"insee_med_living_level\",\n",
    "    \"insee_pop_commune\"\n",
    "]:\n",
    "    df_insee = df[c]\n",
    "    df_insee = df_insee.replace(\"N/A - division par 0\", None)\n",
    "    df_insee = df_insee.replace(\"N/A - résultat non disponible\", None)\n",
    "    df_insee = df_insee.astype(float)\n",
    "    df[c] = df_insee"
   ],
   "id": "e02f20d152c2fd35",
   "outputs": [],
   "execution_count": 37
  },
  {
   "metadata": {
    "ExecuteTime": {
     "end_time": "2024-12-01T11:35:56.027932Z",
     "start_time": "2024-12-01T11:35:55.587072Z"
    }
   },
   "cell_type": "code",
   "source": [
    "df.set_index('piezo_measurement_date', inplace=True)\n",
    "df.interpolate(method='time', inplace=True)\n",
    "df.fillna(df.median(), inplace=True)\n",
    "df.reset_index(inplace=True)"
   ],
   "id": "c1c15e074aedcf43",
   "outputs": [],
   "execution_count": 38
  },
  {
   "metadata": {},
   "cell_type": "markdown",
   "source": "# Date conversion",
   "id": "dfa3d6156d73470"
  },
  {
   "metadata": {
    "ExecuteTime": {
     "end_time": "2024-12-01T11:35:58.407720Z",
     "start_time": "2024-12-01T11:35:56.029339Z"
    }
   },
   "cell_type": "code",
   "source": [
    "import math\n",
    "\n",
    "df['day'] = pd.factorize(df['piezo_measurement_date'].dt.strftime('%d-%m'))[0]\n",
    "df['day'] = (df['day'] - df['day'].min()) / (df['day'].max() - df['day'].min())\n",
    "df['day'] = np.cos(2 * math.pi * df['day'])\n",
    "df.drop(['piezo_measurement_date'], axis=1, inplace=True)"
   ],
   "id": "357f15594664c1f5",
   "outputs": [],
   "execution_count": 39
  },
  {
   "metadata": {},
   "cell_type": "markdown",
   "source": "# Normalization",
   "id": "ddaf61dd5db01198"
  },
  {
   "metadata": {
    "ExecuteTime": {
     "end_time": "2024-12-01T11:35:58.541666Z",
     "start_time": "2024-12-01T11:35:58.409799Z"
    }
   },
   "cell_type": "code",
   "source": [
    "df = (df - df.mean())/df.std()\n",
    "nb_features = len(df.columns)"
   ],
   "id": "714bd9293938e663",
   "outputs": [],
   "execution_count": 40
  },
  {
   "metadata": {},
   "cell_type": "markdown",
   "source": "# Submission",
   "id": "68993fc1041cd9c6"
  },
  {
   "metadata": {
    "ExecuteTime": {
     "end_time": "2024-12-01T11:36:01.184490Z",
     "start_time": "2024-12-01T11:36:00.201666Z"
    }
   },
   "cell_type": "code",
   "source": [
    "loaded_model = XGBClassifier()\n",
    "loaded_model.load_model(\"xgb_model.json\")"
   ],
   "id": "3a018bdb6e3d22f9",
   "outputs": [],
   "execution_count": 41
  },
  {
   "metadata": {
    "ExecuteTime": {
     "end_time": "2024-12-01T11:36:02.412838Z",
     "start_time": "2024-12-01T11:36:02.377731Z"
    }
   },
   "cell_type": "code",
   "source": [
    "cols_when_model_builds = loaded_model.get_booster().feature_names\n",
    "df = df[cols_when_model_builds]"
   ],
   "id": "a99eb85c733d47e6",
   "outputs": [],
   "execution_count": 42
  },
  {
   "metadata": {
    "ExecuteTime": {
     "end_time": "2024-12-01T11:36:05.027014Z",
     "start_time": "2024-12-01T11:36:02.812220Z"
    }
   },
   "cell_type": "code",
   "source": "y_pred = loaded_model.predict(df)",
   "id": "b5596bd9164a113",
   "outputs": [],
   "execution_count": 43
  },
  {
   "metadata": {
    "ExecuteTime": {
     "end_time": "2024-12-01T11:36:06.021998Z",
     "start_time": "2024-12-01T11:36:06.003661Z"
    }
   },
   "cell_type": "code",
   "source": [
    "pred_df = pd.DataFrame(data={\n",
    "  'row_index': row_index,\n",
    "  'piezo_groundwater_level_category': pd.Series(y_pred).map({\n",
    "    0: 'Very Low',\n",
    "    1: 'Low',\n",
    "    2: 'Average',\n",
    "    3: 'High',\n",
    "    4: 'Very High'\n",
    "  })\n",
    "})"
   ],
   "id": "3fb163b2e4b48fdc",
   "outputs": [],
   "execution_count": 44
  },
  {
   "metadata": {
    "ExecuteTime": {
     "end_time": "2024-12-01T11:36:07.919247Z",
     "start_time": "2024-12-01T11:36:07.911834Z"
    }
   },
   "cell_type": "code",
   "source": "pred_df",
   "id": "f467e1f1d4d9a118",
   "outputs": [
    {
     "data": {
      "text/plain": [
       "        row_index piezo_groundwater_level_category\n",
       "0         2331795                         Very Low\n",
       "1         2331796                         Very Low\n",
       "2         2331797                              Low\n",
       "3         2331798                          Average\n",
       "4         2331799                              Low\n",
       "...           ...                              ...\n",
       "611203    3610818                         Very Low\n",
       "611204    3610819                         Very Low\n",
       "611205    3610820                         Very Low\n",
       "611206    3610821                          Average\n",
       "611207    3610822                         Very Low\n",
       "\n",
       "[611208 rows x 2 columns]"
      ],
      "text/html": [
       "<div>\n",
       "<style scoped>\n",
       "    .dataframe tbody tr th:only-of-type {\n",
       "        vertical-align: middle;\n",
       "    }\n",
       "\n",
       "    .dataframe tbody tr th {\n",
       "        vertical-align: top;\n",
       "    }\n",
       "\n",
       "    .dataframe thead th {\n",
       "        text-align: right;\n",
       "    }\n",
       "</style>\n",
       "<table border=\"1\" class=\"dataframe\">\n",
       "  <thead>\n",
       "    <tr style=\"text-align: right;\">\n",
       "      <th></th>\n",
       "      <th>row_index</th>\n",
       "      <th>piezo_groundwater_level_category</th>\n",
       "    </tr>\n",
       "  </thead>\n",
       "  <tbody>\n",
       "    <tr>\n",
       "      <th>0</th>\n",
       "      <td>2331795</td>\n",
       "      <td>Very Low</td>\n",
       "    </tr>\n",
       "    <tr>\n",
       "      <th>1</th>\n",
       "      <td>2331796</td>\n",
       "      <td>Very Low</td>\n",
       "    </tr>\n",
       "    <tr>\n",
       "      <th>2</th>\n",
       "      <td>2331797</td>\n",
       "      <td>Low</td>\n",
       "    </tr>\n",
       "    <tr>\n",
       "      <th>3</th>\n",
       "      <td>2331798</td>\n",
       "      <td>Average</td>\n",
       "    </tr>\n",
       "    <tr>\n",
       "      <th>4</th>\n",
       "      <td>2331799</td>\n",
       "      <td>Low</td>\n",
       "    </tr>\n",
       "    <tr>\n",
       "      <th>...</th>\n",
       "      <td>...</td>\n",
       "      <td>...</td>\n",
       "    </tr>\n",
       "    <tr>\n",
       "      <th>611203</th>\n",
       "      <td>3610818</td>\n",
       "      <td>Very Low</td>\n",
       "    </tr>\n",
       "    <tr>\n",
       "      <th>611204</th>\n",
       "      <td>3610819</td>\n",
       "      <td>Very Low</td>\n",
       "    </tr>\n",
       "    <tr>\n",
       "      <th>611205</th>\n",
       "      <td>3610820</td>\n",
       "      <td>Very Low</td>\n",
       "    </tr>\n",
       "    <tr>\n",
       "      <th>611206</th>\n",
       "      <td>3610821</td>\n",
       "      <td>Average</td>\n",
       "    </tr>\n",
       "    <tr>\n",
       "      <th>611207</th>\n",
       "      <td>3610822</td>\n",
       "      <td>Very Low</td>\n",
       "    </tr>\n",
       "  </tbody>\n",
       "</table>\n",
       "<p>611208 rows × 2 columns</p>\n",
       "</div>"
      ]
     },
     "execution_count": 45,
     "metadata": {},
     "output_type": "execute_result"
    }
   ],
   "execution_count": 45
  },
  {
   "metadata": {
    "ExecuteTime": {
     "end_time": "2024-12-01T11:36:10.448043Z",
     "start_time": "2024-12-01T11:36:09.876129Z"
    }
   },
   "cell_type": "code",
   "source": "pred_df.to_csv('y_test_submission_2.csv', index=False)",
   "id": "fd327e3759135f25",
   "outputs": [],
   "execution_count": 46
  },
  {
   "metadata": {},
   "cell_type": "code",
   "outputs": [],
   "execution_count": null,
   "source": "",
   "id": "a61701576260dd56"
  }
 ],
 "metadata": {
  "kernelspec": {
   "display_name": "Python 3",
   "language": "python",
   "name": "python3"
  },
  "language_info": {
   "codemirror_mode": {
    "name": "ipython",
    "version": 2
   },
   "file_extension": ".py",
   "mimetype": "text/x-python",
   "name": "python",
   "nbconvert_exporter": "python",
   "pygments_lexer": "ipython2",
   "version": "2.7.6"
  }
 },
 "nbformat": 4,
 "nbformat_minor": 5
}
